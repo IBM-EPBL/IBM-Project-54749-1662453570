{
 "cells": [
  {
   "cell_type": "markdown",
   "id": "6bf9f16d",
   "metadata": {},
   "source": [
    "# Assignment 3: Build CNN Model for Classification Of Flowers\n",
    "\n"
   ]
  },
  {
   "cell_type": "code",
   "execution_count": 1,
   "id": "96844fa0",
   "metadata": {},
   "outputs": [],
   "source": [
    "import splitfolders\n",
    "import numpy as np\n",
    "import tensorflow as tf\n",
    "from tensorflow.keras.preprocessing.image import ImageDataGenerator\n",
    "from tensorflow.keras.preprocessing import image\n",
    "from tensorflow.keras import layers\n",
    "from tensorflow.keras.models import Sequential\n",
    "from tensorflow.keras.models import load_model\n",
    "from tensorflow.keras.layers import Dense,Convolution2D,MaxPooling2D,Flatten\n",
    "from tensorflow.keras.applications.resnet50 import preprocess_input, decode_predictions\n",
    "from tensorflow.keras.preprocessing import image\n",
    "import matplotlib.pyplot as plt"
   ]
  },
  {
   "cell_type": "markdown",
   "id": "a8c17850",
   "metadata": {},
   "source": [
    "#### 2. Image Augmentation"
   ]
  },
  {
   "cell_type": "code",
   "execution_count": 2,
   "id": "141c3129",
   "metadata": {},
   "outputs": [],
   "source": [
    "train_datagen = ImageDataGenerator(rescale=1./255,zoom_range=0.2,horizontal_flip=True,vertical_flip=False)"
   ]
  },
  {
   "cell_type": "code",
   "execution_count": 3,
   "id": "b6dc4cce",
   "metadata": {},
   "outputs": [],
   "source": [
    "test_datagen = ImageDataGenerator(rescale=1./255)"
   ]
  },
  {
   "cell_type": "code",
   "execution_count": 4,
   "id": "7379a232",
   "metadata": {},
   "outputs": [],
   "source": [
    "input_folder = 'C:\\\\Users\\\\manok\\\\Documents\\\\Sem_7\\\\HX5001-HX6001\\\\Assignment\\\\Assignment_3\\\\flowers'"
   ]
  },
  {
   "cell_type": "code",
   "execution_count": 5,
   "id": "01ad3d6f",
   "metadata": {},
   "outputs": [
    {
     "name": "stderr",
     "output_type": "stream",
     "text": [
      "Copying files: 4317 files [00:26, 166.01 files/s]\n"
     ]
    }
   ],
   "source": [
    "splitfolders.ratio(input_folder,output=\"C:\\\\Users\\\\manok\\\\Documents\\\\Sem_7\\\\HX5001-HX6001\\\\Assignment\\\\Assignment_3\\\\flowersdataset\",ratio=(.8,0,.2),group_prefix=None)"
   ]
  },
  {
   "cell_type": "code",
   "execution_count": 6,
   "id": "fc8dbd08",
   "metadata": {},
   "outputs": [
    {
     "name": "stdout",
     "output_type": "stream",
     "text": [
      "Found 3452 images belonging to 5 classes.\n"
     ]
    }
   ],
   "source": [
    "x_train=train_datagen.flow_from_directory(r\"C:\\Users\\manok\\Documents\\Sem_7\\HX5001-HX6001\\Assignment\\Assignment_3\\flowersdataset\\train\",target_size=(64,64),class_mode='categorical',batch_size=24)"
   ]
  },
  {
   "cell_type": "code",
   "execution_count": 7,
   "id": "36e42b94",
   "metadata": {},
   "outputs": [
    {
     "name": "stdout",
     "output_type": "stream",
     "text": [
      "Found 865 images belonging to 5 classes.\n"
     ]
    }
   ],
   "source": [
    "x_test=test_datagen.flow_from_directory(r\"C:\\Users\\manok\\Documents\\Sem_7\\HX5001-HX6001\\Assignment\\Assignment_3\\flowersdataset\\test\",target_size=(64,64),class_mode='categorical',batch_size=24)"
   ]
  },
  {
   "cell_type": "code",
   "execution_count": 8,
   "id": "ff80d56e",
   "metadata": {},
   "outputs": [
    {
     "data": {
      "text/plain": [
       "{'daisy': 0, 'dandelion': 1, 'rose': 2, 'sunflower': 3, 'tulip': 4}"
      ]
     },
     "execution_count": 8,
     "metadata": {},
     "output_type": "execute_result"
    }
   ],
   "source": [
    "x_train.class_indices"
   ]
  },
  {
   "cell_type": "markdown",
   "id": "75bff753",
   "metadata": {},
   "source": [
    "#### 3. Create Model"
   ]
  },
  {
   "cell_type": "code",
   "execution_count": 9,
   "id": "6eba7f63",
   "metadata": {},
   "outputs": [],
   "source": [
    "model=Sequential()"
   ]
  },
  {
   "cell_type": "markdown",
   "id": "8490c860",
   "metadata": {},
   "source": [
    "#### 4. Add Layers\n",
    "##### 4.1. Convolution Layer"
   ]
  },
  {
   "cell_type": "code",
   "execution_count": 10,
   "id": "2d79a42e",
   "metadata": {},
   "outputs": [],
   "source": [
    "model.add(Convolution2D(32,(3,3),input_shape=(64,64,3),activation='relu'))"
   ]
  },
  {
   "cell_type": "markdown",
   "id": "d027f541",
   "metadata": {},
   "source": [
    "##### 4.2. MaxPooling Layer"
   ]
  },
  {
   "cell_type": "code",
   "execution_count": 11,
   "id": "b457672a",
   "metadata": {},
   "outputs": [],
   "source": [
    "model.add(MaxPooling2D(pool_size=(2,2)))"
   ]
  },
  {
   "cell_type": "markdown",
   "id": "36824438",
   "metadata": {},
   "source": [
    "##### 4.3. Flatten Layer"
   ]
  },
  {
   "cell_type": "code",
   "execution_count": 12,
   "id": "49abf828",
   "metadata": {},
   "outputs": [],
   "source": [
    "model.add(Flatten())"
   ]
  },
  {
   "cell_type": "markdown",
   "id": "90c789f6",
   "metadata": {},
   "source": [
    "##### 4.4. Dense Layer"
   ]
  },
  {
   "cell_type": "code",
   "execution_count": 13,
   "id": "dc904436",
   "metadata": {},
   "outputs": [],
   "source": [
    "model.add(Dense(300,activation='relu'))\n",
    "model.add(Dense(150,activation='relu'))"
   ]
  },
  {
   "cell_type": "code",
   "execution_count": 14,
   "id": "dcdb1a98",
   "metadata": {},
   "outputs": [
    {
     "name": "stdout",
     "output_type": "stream",
     "text": [
      "Model: \"sequential\"\n",
      "_________________________________________________________________\n",
      " Layer (type)                Output Shape              Param #   \n",
      "=================================================================\n",
      " conv2d (Conv2D)             (None, 62, 62, 32)        896       \n",
      "                                                                 \n",
      " max_pooling2d (MaxPooling2D  (None, 31, 31, 32)       0         \n",
      " )                                                               \n",
      "                                                                 \n",
      " flatten (Flatten)           (None, 30752)             0         \n",
      "                                                                 \n",
      " dense (Dense)               (None, 300)               9225900   \n",
      "                                                                 \n",
      " dense_1 (Dense)             (None, 150)               45150     \n",
      "                                                                 \n",
      "=================================================================\n",
      "Total params: 9,271,946\n",
      "Trainable params: 9,271,946\n",
      "Non-trainable params: 0\n",
      "_________________________________________________________________\n"
     ]
    }
   ],
   "source": [
    "model.summary()"
   ]
  },
  {
   "cell_type": "markdown",
   "id": "b4abb04d",
   "metadata": {},
   "source": [
    "##### 4.5. Output Layer"
   ]
  },
  {
   "cell_type": "code",
   "execution_count": 15,
   "id": "65de38fd",
   "metadata": {},
   "outputs": [],
   "source": [
    "model.add(Dense(5,activation='softmax'))"
   ]
  },
  {
   "cell_type": "code",
   "execution_count": 16,
   "id": "aaad1b74",
   "metadata": {},
   "outputs": [
    {
     "name": "stdout",
     "output_type": "stream",
     "text": [
      "Model: \"sequential\"\n",
      "_________________________________________________________________\n",
      " Layer (type)                Output Shape              Param #   \n",
      "=================================================================\n",
      " conv2d (Conv2D)             (None, 62, 62, 32)        896       \n",
      "                                                                 \n",
      " max_pooling2d (MaxPooling2D  (None, 31, 31, 32)       0         \n",
      " )                                                               \n",
      "                                                                 \n",
      " flatten (Flatten)           (None, 30752)             0         \n",
      "                                                                 \n",
      " dense (Dense)               (None, 300)               9225900   \n",
      "                                                                 \n",
      " dense_1 (Dense)             (None, 150)               45150     \n",
      "                                                                 \n",
      " dense_2 (Dense)             (None, 5)                 755       \n",
      "                                                                 \n",
      "=================================================================\n",
      "Total params: 9,272,701\n",
      "Trainable params: 9,272,701\n",
      "Non-trainable params: 0\n",
      "_________________________________________________________________\n"
     ]
    }
   ],
   "source": [
    " model.summary()"
   ]
  },
  {
   "cell_type": "markdown",
   "id": "af4b2990",
   "metadata": {},
   "source": [
    "#### 5. Compile The Model"
   ]
  },
  {
   "cell_type": "code",
   "execution_count": 17,
   "id": "7c11b5dd",
   "metadata": {},
   "outputs": [
    {
     "data": {
      "text/plain": [
       "144"
      ]
     },
     "execution_count": 17,
     "metadata": {},
     "output_type": "execute_result"
    }
   ],
   "source": [
    "model.compile(loss='categorical_crossentropy',optimizer='adam',metrics=['accuracy'])\n",
    "len(x_train)"
   ]
  },
  {
   "cell_type": "markdown",
   "id": "a36a3ba7",
   "metadata": {},
   "source": [
    "#### 6. Fit The Model"
   ]
  },
  {
   "cell_type": "code",
   "execution_count": 18,
   "id": "6c039a46",
   "metadata": {},
   "outputs": [
    {
     "name": "stdout",
     "output_type": "stream",
     "text": [
      "Epoch 1/20\n",
      "144/144 [==============================] - 81s 552ms/step - loss: 1.4602 - accuracy: 0.4429 - val_loss: 1.2587 - val_accuracy: 0.5052\n",
      "Epoch 2/20\n",
      "144/144 [==============================] - 38s 264ms/step - loss: 1.0639 - accuracy: 0.5773 - val_loss: 1.1310 - val_accuracy: 0.5399\n",
      "Epoch 3/20\n",
      "144/144 [==============================] - 38s 263ms/step - loss: 0.9872 - accuracy: 0.6066 - val_loss: 1.0271 - val_accuracy: 0.5861\n",
      "Epoch 4/20\n",
      "144/144 [==============================] - 38s 263ms/step - loss: 0.9298 - accuracy: 0.6251 - val_loss: 1.0208 - val_accuracy: 0.6266\n",
      "Epoch 5/20\n",
      "144/144 [==============================] - 38s 264ms/step - loss: 0.8497 - accuracy: 0.6651 - val_loss: 0.9911 - val_accuracy: 0.6428\n",
      "Epoch 6/20\n",
      "144/144 [==============================] - 38s 263ms/step - loss: 0.8255 - accuracy: 0.6727 - val_loss: 1.1223 - val_accuracy: 0.6023\n",
      "Epoch 7/20\n",
      "144/144 [==============================] - 36s 253ms/step - loss: 0.7639 - accuracy: 0.7048 - val_loss: 1.0702 - val_accuracy: 0.6243\n",
      "Epoch 8/20\n",
      "144/144 [==============================] - 37s 254ms/step - loss: 0.7179 - accuracy: 0.7170 - val_loss: 1.1313 - val_accuracy: 0.5873\n",
      "Epoch 9/20\n",
      "144/144 [==============================] - 37s 254ms/step - loss: 0.6676 - accuracy: 0.7352 - val_loss: 0.9532 - val_accuracy: 0.6647\n",
      "Epoch 10/20\n",
      "144/144 [==============================] - 36s 252ms/step - loss: 0.6323 - accuracy: 0.7567 - val_loss: 0.9810 - val_accuracy: 0.6532\n",
      "Epoch 11/20\n",
      "144/144 [==============================] - 37s 253ms/step - loss: 0.6231 - accuracy: 0.7590 - val_loss: 1.0481 - val_accuracy: 0.6439\n",
      "Epoch 12/20\n",
      "144/144 [==============================] - 36s 254ms/step - loss: 0.5839 - accuracy: 0.7775 - val_loss: 1.0738 - val_accuracy: 0.6821\n",
      "Epoch 13/20\n",
      "144/144 [==============================] - 36s 253ms/step - loss: 0.5251 - accuracy: 0.8097 - val_loss: 0.9613 - val_accuracy: 0.6682\n",
      "Epoch 14/20\n",
      "144/144 [==============================] - 35s 245ms/step - loss: 0.4838 - accuracy: 0.8143 - val_loss: 1.0360 - val_accuracy: 0.6682\n",
      "Epoch 15/20\n",
      "144/144 [==============================] - 96s 667ms/step - loss: 0.4308 - accuracy: 0.8433 - val_loss: 1.1060 - val_accuracy: 0.6647\n",
      "Epoch 16/20\n",
      "144/144 [==============================] - 26s 180ms/step - loss: 0.4230 - accuracy: 0.8491 - val_loss: 1.2172 - val_accuracy: 0.6590\n",
      "Epoch 17/20\n",
      "144/144 [==============================] - 28s 192ms/step - loss: 0.4122 - accuracy: 0.8517 - val_loss: 1.0914 - val_accuracy: 0.6694\n",
      "Epoch 18/20\n",
      "144/144 [==============================] - 29s 199ms/step - loss: 0.3877 - accuracy: 0.8644 - val_loss: 1.4504 - val_accuracy: 0.5988\n",
      "Epoch 19/20\n",
      "144/144 [==============================] - 39s 271ms/step - loss: 0.3670 - accuracy: 0.8653 - val_loss: 1.2226 - val_accuracy: 0.6428\n",
      "Epoch 20/20\n",
      "144/144 [==============================] - 39s 272ms/step - loss: 0.3131 - accuracy: 0.8853 - val_loss: 1.2005 - val_accuracy: 0.6798\n"
     ]
    }
   ],
   "source": [
    "epo=20\n",
    "history = model.fit(x_train,steps_per_epoch=len(x_train),validation_data=x_test,validation_steps=len(x_test),epochs=epo)"
   ]
  },
  {
   "cell_type": "code",
   "execution_count": 19,
   "id": "75fc9dbc",
   "metadata": {},
   "outputs": [
    {
     "data": {
      "image/png": "[encoded data removed]",
      "text/plain": [
       "<Figure size 576x576 with 1 Axes>"
      ]
     },
     "metadata": {
      "needs_background": "light"
     },
     "output_type": "display_data"
    }
   ],
   "source": [
    "epochs_range = range(epo)\n",
    "\n",
    "plt.figure(figsize=(8, 8))\n",
    "plt.plot(epochs_range, history.history['accuracy'], label='Training Accuracy')\n",
    "plt.plot(epochs_range, history.history['val_accuracy'], label='Validation Accuracy')\n",
    "plt.legend()\n",
    "plt.title('Training and Validation Accuracy')\n",
    "plt.show()"
   ]
  },
  {
   "cell_type": "code",
   "execution_count": 20,
   "id": "85816b2b",
   "metadata": {},
   "outputs": [
    {
     "data": {
      "image/png": "[encoded data removed]",
      "text/plain": [
       "<Figure size 576x576 with 1 Axes>"
      ]
     },
     "metadata": {
      "needs_background": "light"
     },
     "output_type": "display_data"
    }
   ],
   "source": [
    "plt.figure(figsize=(8, 8))\n",
    "plt.plot(epochs_range, history.history['loss'], label='Training Loss')\n",
    "plt.plot(epochs_range, history.history['val_loss'], label='Validation Loss')\n",
    "plt.legend()\n",
    "plt.title('Training and Validation Loss')\n",
    "plt.show()"
   ]
  },
  {
   "cell_type": "markdown",
   "id": "e69d4b53",
   "metadata": {},
   "source": [
    "#### 7. Save the Model"
   ]
  },
  {
   "cell_type": "code",
   "execution_count": 21,
   "id": "ef63d378",
   "metadata": {},
   "outputs": [],
   "source": [
    "model.save('flowers.h5')"
   ]
  },
  {
   "cell_type": "markdown",
   "id": "8564d902",
   "metadata": {},
   "source": [
    "#### 8. Test the Model"
   ]
  },
  {
   "cell_type": "code",
   "execution_count": 22,
   "id": "ebc04b72",
   "metadata": {},
   "outputs": [
    {
     "name": "stdout",
     "output_type": "stream",
     "text": [
      "1/1 [==============================] - 1s 661ms/step\n"
     ]
    },
    {
     "data": {
      "text/plain": [
       "'daisy'"
      ]
     },
     "execution_count": 22,
     "metadata": {},
     "output_type": "execute_result"
    }
   ],
   "source": [
    "img=image.load_img(r\"C:\\Users\\manok\\Documents\\Sem_7\\HX5001-HX6001\\Assignment\\Assignment_3\\flowersdataset\\test\\daisy\\3706420943_66f3214862_n.jpg\",target_size=(64,64))\n",
    "x=image.img_to_array(img)\n",
    "x=np.expand_dims(x,axis=0)\n",
    "y=np.argmax(model.predict(x),axis=1)\n",
    "x_train.class_indices\n",
    "index=['daisy','dandellion','rose','sunflower','tulip']\n",
    "index[y[0]]"
   ]
  },
  {
   "cell_type": "code",
   "execution_count": 23,
   "id": "e25c4dc8",
   "metadata": {},
   "outputs": [
    {
     "name": "stdout",
     "output_type": "stream",
     "text": [
      "1/1 [==============================] - 2s 2s/step\n",
      "[('n11939491', 'daisy', 0.57757616), ('n02206856', 'bee', 0.249383), ('n03991062', 'pot', 0.01181932)]\n"
     ]
    }
   ],
   "source": [
    "img_url = \"https://storage.googleapis.com/download.tensorflow.org/example_images/592px-Red_sunflower.jpg\"\n",
    "img_path = tf.keras.utils.get_file('Red_sunflower', origin=img_url)\n",
    "\n",
    "img = image.load_img(img_path, target_size=(224, 224))\n",
    "img_array = image.img_to_array(img)\n",
    "img_batch = np.expand_dims(img_array, axis=0)\n",
    "\n",
    "img_preprocessed = preprocess_input(img_batch)\n",
    "model = tf.keras.applications.resnet50.ResNet50()\n",
    "prediction = model.predict(img_preprocessed)\n",
    "\n",
    "print(decode_predictions(prediction, top=3)[0])\n",
    "\n",
    "score = tf.nn.softmax(prediction[0])"
   ]
  }
 ],
 "metadata": {
  "kernelspec": {
   "display_name": "Python 3 (ipykernel)",
   "language": "python",
   "name": "python3"
  },
  "language_info": {
   "codemirror_mode": {
    "name": "ipython",
    "version": 3
   },
   "file_extension": ".py",
   "mimetype": "text/x-python",
   "name": "python",
   "nbconvert_exporter": "python",
   "pygments_lexer": "ipython3",
   "version": "3.9.12"
  }
 },
 "nbformat": 4,
 "nbformat_minor": 5
}
